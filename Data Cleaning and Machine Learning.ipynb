{
 "cells": [
  {
   "cell_type": "markdown",
   "id": "94145a9e",
   "metadata": {},
   "source": [
    "# Exercise 6.4 Machine Learning, Part 1\n",
    "\n",
    "This script contains the following:\n",
    "\n",
    "Section 1: Importing Libraries and Data\n",
    "\n",
    "Section 2: Data Cleaning\n",
    "\n",
    "Section 3: Data Prep for Regression Analysis\n",
    "\n",
    "Section 4: Regression Analysis\n",
    "\n",
    "Section 5: Thoughts on Model Performance\n",
    "\n",
    "Section 6: Saving the Data"
   ]
  },
  {
   "cell_type": "markdown",
   "id": "60257d98",
   "metadata": {},
   "source": [
    "## Section 1: Importing Libraries and Data"
   ]
  },
  {
   "cell_type": "code",
   "execution_count": 1,
   "id": "98cf65bb",
   "metadata": {},
   "outputs": [],
   "source": [
    "# Importing libraries\n",
    "import pandas as pd\n",
    "import numpy as np\n",
    "import seaborn as sns\n",
    "import matplotlib\n",
    "import matplotlib.pyplot as plt\n",
    "import os\n",
    "import sklearn\n",
    "from sklearn.model_selection import train_test_split \n",
    "from sklearn.linear_model import LinearRegression\n",
    "from sklearn.metrics import mean_squared_error, r2_score"
   ]
  },
  {
   "cell_type": "code",
   "execution_count": 2,
   "id": "9c462463",
   "metadata": {},
   "outputs": [],
   "source": [
    "# Loading the data\n",
    "path = 'C:/Users/gav/Documents/Career Foundry Data Analytics/Section 6 - Advanced Analytics & Dashboard Design'"
   ]
  },
  {
   "cell_type": "code",
   "execution_count": 4,
   "id": "e41e50ed",
   "metadata": {},
   "outputs": [],
   "source": [
    "df = pd.read_csv(os.path.join(path, 'Project Docs', '02 Data', 'Prepared Data', 'cleaned_house_data.csv'), index_col = False)"
   ]
  },
  {
   "cell_type": "code",
   "execution_count": 27,
   "id": "2dfca096",
   "metadata": {},
   "outputs": [],
   "source": [
    "# This should let us see graphs without calling them\n",
    "%matplotlib inline"
   ]
  },
  {
   "cell_type": "markdown",
   "id": "6ea79090",
   "metadata": {},
   "source": [
    "## Section 2: Data Cleaning"
   ]
  },
  {
   "cell_type": "code",
   "execution_count": 5,
   "id": "e5394423",
   "metadata": {},
   "outputs": [
    {
     "data": {
      "text/plain": [
       "Index(['Unnamed: 0', 'status', 'bed', 'bath', 'acre_lot', 'city', 'state',\n",
       "       'zip_code', 'house_size', 'price'],\n",
       "      dtype='object')"
      ]
     },
     "execution_count": 5,
     "metadata": {},
     "output_type": "execute_result"
    }
   ],
   "source": [
    "df.columns"
   ]
  },
  {
   "cell_type": "code",
   "execution_count": 6,
   "id": "1dc205b8",
   "metadata": {},
   "outputs": [],
   "source": [
    "# Dropping the unnamed column\n",
    "df = df.drop(columns = ['Unnamed: 0'])"
   ]
  },
  {
   "cell_type": "code",
   "execution_count": 7,
   "id": "1addff38",
   "metadata": {},
   "outputs": [
    {
     "data": {
      "text/plain": [
       "Index(['status', 'bed', 'bath', 'acre_lot', 'city', 'state', 'zip_code',\n",
       "       'house_size', 'price'],\n",
       "      dtype='object')"
      ]
     },
     "execution_count": 7,
     "metadata": {},
     "output_type": "execute_result"
    }
   ],
   "source": [
    "df.columns"
   ]
  },
  {
   "cell_type": "code",
   "execution_count": 8,
   "id": "f8b261d4",
   "metadata": {},
   "outputs": [
    {
     "data": {
      "text/plain": [
       "<bound method NDFrame.head of           status  bed  bath  acre_lot           city          state  zip_code  \\\n",
       "0       for_sale  2.0   1.0      0.34         Agawam  Massachusetts    1001.0   \n",
       "1       for_sale  2.0   2.0      0.00         Agawam  Massachusetts    1001.0   \n",
       "2       for_sale  2.0   2.0      0.00         Agawam  Massachusetts    1001.0   \n",
       "3       for_sale  2.0   2.0      0.00         Agawam  Massachusetts    1001.0   \n",
       "4       for_sale  3.0   1.0      0.46         Agawam  Massachusetts    1001.0   \n",
       "...          ...  ...   ...       ...            ...            ...       ...   \n",
       "753011  for_sale  2.0   2.0      0.00  New York City       New York   10463.0   \n",
       "753012  for_sale  2.0   2.0      0.00  New York City       New York   10463.0   \n",
       "753013  for_sale  2.0   2.0      0.00          Bronx       New York   10463.0   \n",
       "753014  for_sale  3.0   2.0      0.00          Bronx       New York   10463.0   \n",
       "753015  for_sale  3.0   3.0      0.00  New York City       New York   10463.0   \n",
       "\n",
       "        house_size     price  \n",
       "0            676.0  180000.0  \n",
       "1            892.0  169900.0  \n",
       "2           1428.0  242000.0  \n",
       "3           1659.0  299950.0  \n",
       "4           1196.0  239900.0  \n",
       "...            ...       ...  \n",
       "753011      1200.0  399000.0  \n",
       "753012         NaN  359000.0  \n",
       "753013      1200.0  299000.0  \n",
       "753014         NaN  449000.0  \n",
       "753015      1677.0  850000.0  \n",
       "\n",
       "[753016 rows x 9 columns]>"
      ]
     },
     "execution_count": 8,
     "metadata": {},
     "output_type": "execute_result"
    }
   ],
   "source": [
    "df.head"
   ]
  },
  {
   "cell_type": "code",
   "execution_count": 10,
   "id": "8528aab5",
   "metadata": {},
   "outputs": [
    {
     "data": {
      "text/plain": [
       "for_sale          751423\n",
       "ready_to_build      1593\n",
       "Name: status, dtype: int64"
      ]
     },
     "execution_count": 10,
     "metadata": {},
     "output_type": "execute_result"
    }
   ],
   "source": [
    "# Upon relection, the status column may be useless, but let's check\n",
    "df['status'].value_counts(dropna = False)"
   ]
  },
  {
   "cell_type": "markdown",
   "id": "e470f200",
   "metadata": {},
   "source": [
    "I supsect that the ready_to_build locations will only weigh down the analysis, so let's get a look at them."
   ]
  },
  {
   "cell_type": "code",
   "execution_count": 11,
   "id": "90550aae",
   "metadata": {},
   "outputs": [],
   "source": [
    "df_check = df[df['status'] == 'ready_to_build']"
   ]
  },
  {
   "cell_type": "code",
   "execution_count": 12,
   "id": "6ac3bb24",
   "metadata": {},
   "outputs": [
    {
     "data": {
      "text/html": [
       "<div>\n",
       "<style scoped>\n",
       "    .dataframe tbody tr th:only-of-type {\n",
       "        vertical-align: middle;\n",
       "    }\n",
       "\n",
       "    .dataframe tbody tr th {\n",
       "        vertical-align: top;\n",
       "    }\n",
       "\n",
       "    .dataframe thead th {\n",
       "        text-align: right;\n",
       "    }\n",
       "</style>\n",
       "<table border=\"1\" class=\"dataframe\">\n",
       "  <thead>\n",
       "    <tr style=\"text-align: right;\">\n",
       "      <th></th>\n",
       "      <th>status</th>\n",
       "      <th>bed</th>\n",
       "      <th>bath</th>\n",
       "      <th>acre_lot</th>\n",
       "      <th>city</th>\n",
       "      <th>state</th>\n",
       "      <th>zip_code</th>\n",
       "      <th>house_size</th>\n",
       "      <th>price</th>\n",
       "    </tr>\n",
       "  </thead>\n",
       "  <tbody>\n",
       "    <tr>\n",
       "      <th>31131</th>\n",
       "      <td>ready_to_build</td>\n",
       "      <td>2.0</td>\n",
       "      <td>NaN</td>\n",
       "      <td>0.0</td>\n",
       "      <td>Boxborough</td>\n",
       "      <td>Massachusetts</td>\n",
       "      <td>1719.0</td>\n",
       "      <td>2516.0</td>\n",
       "      <td>852995.0</td>\n",
       "    </tr>\n",
       "    <tr>\n",
       "      <th>31134</th>\n",
       "      <td>ready_to_build</td>\n",
       "      <td>2.0</td>\n",
       "      <td>NaN</td>\n",
       "      <td>0.0</td>\n",
       "      <td>Boxborough</td>\n",
       "      <td>Massachusetts</td>\n",
       "      <td>1719.0</td>\n",
       "      <td>2576.0</td>\n",
       "      <td>858995.0</td>\n",
       "    </tr>\n",
       "    <tr>\n",
       "      <th>31137</th>\n",
       "      <td>ready_to_build</td>\n",
       "      <td>2.0</td>\n",
       "      <td>NaN</td>\n",
       "      <td>0.0</td>\n",
       "      <td>Boxborough</td>\n",
       "      <td>Massachusetts</td>\n",
       "      <td>1719.0</td>\n",
       "      <td>2626.0</td>\n",
       "      <td>862995.0</td>\n",
       "    </tr>\n",
       "    <tr>\n",
       "      <th>31140</th>\n",
       "      <td>ready_to_build</td>\n",
       "      <td>2.0</td>\n",
       "      <td>NaN</td>\n",
       "      <td>0.0</td>\n",
       "      <td>Boxborough</td>\n",
       "      <td>Massachusetts</td>\n",
       "      <td>1719.0</td>\n",
       "      <td>2449.0</td>\n",
       "      <td>842995.0</td>\n",
       "    </tr>\n",
       "    <tr>\n",
       "      <th>31141</th>\n",
       "      <td>ready_to_build</td>\n",
       "      <td>2.0</td>\n",
       "      <td>NaN</td>\n",
       "      <td>0.0</td>\n",
       "      <td>Boxborough</td>\n",
       "      <td>Massachusetts</td>\n",
       "      <td>1719.0</td>\n",
       "      <td>1833.0</td>\n",
       "      <td>799995.0</td>\n",
       "    </tr>\n",
       "    <tr>\n",
       "      <th>31267</th>\n",
       "      <td>ready_to_build</td>\n",
       "      <td>2.0</td>\n",
       "      <td>NaN</td>\n",
       "      <td>0.0</td>\n",
       "      <td>Hudson</td>\n",
       "      <td>Massachusetts</td>\n",
       "      <td>1749.0</td>\n",
       "      <td>2369.0</td>\n",
       "      <td>864995.0</td>\n",
       "    </tr>\n",
       "    <tr>\n",
       "      <th>31268</th>\n",
       "      <td>ready_to_build</td>\n",
       "      <td>2.0</td>\n",
       "      <td>NaN</td>\n",
       "      <td>0.0</td>\n",
       "      <td>Hudson</td>\n",
       "      <td>Massachusetts</td>\n",
       "      <td>1749.0</td>\n",
       "      <td>2150.0</td>\n",
       "      <td>844995.0</td>\n",
       "    </tr>\n",
       "    <tr>\n",
       "      <th>31269</th>\n",
       "      <td>ready_to_build</td>\n",
       "      <td>2.0</td>\n",
       "      <td>NaN</td>\n",
       "      <td>0.0</td>\n",
       "      <td>Hudson</td>\n",
       "      <td>Massachusetts</td>\n",
       "      <td>1749.0</td>\n",
       "      <td>2383.0</td>\n",
       "      <td>869995.0</td>\n",
       "    </tr>\n",
       "    <tr>\n",
       "      <th>31271</th>\n",
       "      <td>ready_to_build</td>\n",
       "      <td>2.0</td>\n",
       "      <td>NaN</td>\n",
       "      <td>0.0</td>\n",
       "      <td>Hudson</td>\n",
       "      <td>Massachusetts</td>\n",
       "      <td>1749.0</td>\n",
       "      <td>1766.0</td>\n",
       "      <td>814995.0</td>\n",
       "    </tr>\n",
       "    <tr>\n",
       "      <th>31272</th>\n",
       "      <td>ready_to_build</td>\n",
       "      <td>2.0</td>\n",
       "      <td>NaN</td>\n",
       "      <td>0.0</td>\n",
       "      <td>Hudson</td>\n",
       "      <td>Massachusetts</td>\n",
       "      <td>1749.0</td>\n",
       "      <td>1759.0</td>\n",
       "      <td>812995.0</td>\n",
       "    </tr>\n",
       "    <tr>\n",
       "      <th>31274</th>\n",
       "      <td>ready_to_build</td>\n",
       "      <td>2.0</td>\n",
       "      <td>NaN</td>\n",
       "      <td>0.0</td>\n",
       "      <td>Hudson</td>\n",
       "      <td>Massachusetts</td>\n",
       "      <td>1749.0</td>\n",
       "      <td>1735.0</td>\n",
       "      <td>811995.0</td>\n",
       "    </tr>\n",
       "    <tr>\n",
       "      <th>31540</th>\n",
       "      <td>ready_to_build</td>\n",
       "      <td>2.0</td>\n",
       "      <td>NaN</td>\n",
       "      <td>0.0</td>\n",
       "      <td>Boxborough</td>\n",
       "      <td>Massachusetts</td>\n",
       "      <td>1719.0</td>\n",
       "      <td>2516.0</td>\n",
       "      <td>852995.0</td>\n",
       "    </tr>\n",
       "    <tr>\n",
       "      <th>31541</th>\n",
       "      <td>ready_to_build</td>\n",
       "      <td>2.0</td>\n",
       "      <td>NaN</td>\n",
       "      <td>0.0</td>\n",
       "      <td>Boxborough</td>\n",
       "      <td>Massachusetts</td>\n",
       "      <td>1719.0</td>\n",
       "      <td>2576.0</td>\n",
       "      <td>858995.0</td>\n",
       "    </tr>\n",
       "    <tr>\n",
       "      <th>31542</th>\n",
       "      <td>ready_to_build</td>\n",
       "      <td>2.0</td>\n",
       "      <td>NaN</td>\n",
       "      <td>0.0</td>\n",
       "      <td>Boxborough</td>\n",
       "      <td>Massachusetts</td>\n",
       "      <td>1719.0</td>\n",
       "      <td>2626.0</td>\n",
       "      <td>862995.0</td>\n",
       "    </tr>\n",
       "    <tr>\n",
       "      <th>31543</th>\n",
       "      <td>ready_to_build</td>\n",
       "      <td>2.0</td>\n",
       "      <td>NaN</td>\n",
       "      <td>0.0</td>\n",
       "      <td>Boxborough</td>\n",
       "      <td>Massachusetts</td>\n",
       "      <td>1719.0</td>\n",
       "      <td>2449.0</td>\n",
       "      <td>842995.0</td>\n",
       "    </tr>\n",
       "    <tr>\n",
       "      <th>31544</th>\n",
       "      <td>ready_to_build</td>\n",
       "      <td>2.0</td>\n",
       "      <td>NaN</td>\n",
       "      <td>0.0</td>\n",
       "      <td>Boxborough</td>\n",
       "      <td>Massachusetts</td>\n",
       "      <td>1719.0</td>\n",
       "      <td>1833.0</td>\n",
       "      <td>799995.0</td>\n",
       "    </tr>\n",
       "    <tr>\n",
       "      <th>33845</th>\n",
       "      <td>ready_to_build</td>\n",
       "      <td>2.0</td>\n",
       "      <td>NaN</td>\n",
       "      <td>0.0</td>\n",
       "      <td>Hudson</td>\n",
       "      <td>Massachusetts</td>\n",
       "      <td>1749.0</td>\n",
       "      <td>2150.0</td>\n",
       "      <td>844995.0</td>\n",
       "    </tr>\n",
       "    <tr>\n",
       "      <th>33847</th>\n",
       "      <td>ready_to_build</td>\n",
       "      <td>2.0</td>\n",
       "      <td>NaN</td>\n",
       "      <td>0.0</td>\n",
       "      <td>Hudson</td>\n",
       "      <td>Massachusetts</td>\n",
       "      <td>1749.0</td>\n",
       "      <td>2369.0</td>\n",
       "      <td>864995.0</td>\n",
       "    </tr>\n",
       "    <tr>\n",
       "      <th>33848</th>\n",
       "      <td>ready_to_build</td>\n",
       "      <td>2.0</td>\n",
       "      <td>NaN</td>\n",
       "      <td>0.0</td>\n",
       "      <td>Hudson</td>\n",
       "      <td>Massachusetts</td>\n",
       "      <td>1749.0</td>\n",
       "      <td>1759.0</td>\n",
       "      <td>812995.0</td>\n",
       "    </tr>\n",
       "    <tr>\n",
       "      <th>34044</th>\n",
       "      <td>ready_to_build</td>\n",
       "      <td>2.0</td>\n",
       "      <td>NaN</td>\n",
       "      <td>0.0</td>\n",
       "      <td>Hudson</td>\n",
       "      <td>Massachusetts</td>\n",
       "      <td>1749.0</td>\n",
       "      <td>2369.0</td>\n",
       "      <td>864995.0</td>\n",
       "    </tr>\n",
       "    <tr>\n",
       "      <th>34045</th>\n",
       "      <td>ready_to_build</td>\n",
       "      <td>2.0</td>\n",
       "      <td>NaN</td>\n",
       "      <td>0.0</td>\n",
       "      <td>Hudson</td>\n",
       "      <td>Massachusetts</td>\n",
       "      <td>1749.0</td>\n",
       "      <td>2383.0</td>\n",
       "      <td>869995.0</td>\n",
       "    </tr>\n",
       "    <tr>\n",
       "      <th>34046</th>\n",
       "      <td>ready_to_build</td>\n",
       "      <td>2.0</td>\n",
       "      <td>NaN</td>\n",
       "      <td>0.0</td>\n",
       "      <td>Hudson</td>\n",
       "      <td>Massachusetts</td>\n",
       "      <td>1749.0</td>\n",
       "      <td>2150.0</td>\n",
       "      <td>844995.0</td>\n",
       "    </tr>\n",
       "    <tr>\n",
       "      <th>34047</th>\n",
       "      <td>ready_to_build</td>\n",
       "      <td>2.0</td>\n",
       "      <td>NaN</td>\n",
       "      <td>0.0</td>\n",
       "      <td>Hudson</td>\n",
       "      <td>Massachusetts</td>\n",
       "      <td>1749.0</td>\n",
       "      <td>1766.0</td>\n",
       "      <td>814995.0</td>\n",
       "    </tr>\n",
       "    <tr>\n",
       "      <th>34048</th>\n",
       "      <td>ready_to_build</td>\n",
       "      <td>2.0</td>\n",
       "      <td>NaN</td>\n",
       "      <td>0.0</td>\n",
       "      <td>Hudson</td>\n",
       "      <td>Massachusetts</td>\n",
       "      <td>1749.0</td>\n",
       "      <td>1759.0</td>\n",
       "      <td>812995.0</td>\n",
       "    </tr>\n",
       "    <tr>\n",
       "      <th>34049</th>\n",
       "      <td>ready_to_build</td>\n",
       "      <td>2.0</td>\n",
       "      <td>NaN</td>\n",
       "      <td>0.0</td>\n",
       "      <td>Hudson</td>\n",
       "      <td>Massachusetts</td>\n",
       "      <td>1749.0</td>\n",
       "      <td>1735.0</td>\n",
       "      <td>811995.0</td>\n",
       "    </tr>\n",
       "    <tr>\n",
       "      <th>34447</th>\n",
       "      <td>ready_to_build</td>\n",
       "      <td>2.0</td>\n",
       "      <td>NaN</td>\n",
       "      <td>0.0</td>\n",
       "      <td>Boxborough</td>\n",
       "      <td>Massachusetts</td>\n",
       "      <td>1719.0</td>\n",
       "      <td>2516.0</td>\n",
       "      <td>852995.0</td>\n",
       "    </tr>\n",
       "    <tr>\n",
       "      <th>34449</th>\n",
       "      <td>ready_to_build</td>\n",
       "      <td>2.0</td>\n",
       "      <td>NaN</td>\n",
       "      <td>0.0</td>\n",
       "      <td>Boxborough</td>\n",
       "      <td>Massachusetts</td>\n",
       "      <td>1719.0</td>\n",
       "      <td>2626.0</td>\n",
       "      <td>862995.0</td>\n",
       "    </tr>\n",
       "    <tr>\n",
       "      <th>34450</th>\n",
       "      <td>ready_to_build</td>\n",
       "      <td>2.0</td>\n",
       "      <td>NaN</td>\n",
       "      <td>0.0</td>\n",
       "      <td>Boxborough</td>\n",
       "      <td>Massachusetts</td>\n",
       "      <td>1719.0</td>\n",
       "      <td>2576.0</td>\n",
       "      <td>858995.0</td>\n",
       "    </tr>\n",
       "    <tr>\n",
       "      <th>34452</th>\n",
       "      <td>ready_to_build</td>\n",
       "      <td>2.0</td>\n",
       "      <td>NaN</td>\n",
       "      <td>0.0</td>\n",
       "      <td>Boxborough</td>\n",
       "      <td>Massachusetts</td>\n",
       "      <td>1719.0</td>\n",
       "      <td>1833.0</td>\n",
       "      <td>799995.0</td>\n",
       "    </tr>\n",
       "    <tr>\n",
       "      <th>34453</th>\n",
       "      <td>ready_to_build</td>\n",
       "      <td>2.0</td>\n",
       "      <td>NaN</td>\n",
       "      <td>0.0</td>\n",
       "      <td>Boxborough</td>\n",
       "      <td>Massachusetts</td>\n",
       "      <td>1719.0</td>\n",
       "      <td>2449.0</td>\n",
       "      <td>842995.0</td>\n",
       "    </tr>\n",
       "  </tbody>\n",
       "</table>\n",
       "</div>"
      ],
      "text/plain": [
       "               status  bed  bath  acre_lot        city          state  \\\n",
       "31131  ready_to_build  2.0   NaN       0.0  Boxborough  Massachusetts   \n",
       "31134  ready_to_build  2.0   NaN       0.0  Boxborough  Massachusetts   \n",
       "31137  ready_to_build  2.0   NaN       0.0  Boxborough  Massachusetts   \n",
       "31140  ready_to_build  2.0   NaN       0.0  Boxborough  Massachusetts   \n",
       "31141  ready_to_build  2.0   NaN       0.0  Boxborough  Massachusetts   \n",
       "31267  ready_to_build  2.0   NaN       0.0      Hudson  Massachusetts   \n",
       "31268  ready_to_build  2.0   NaN       0.0      Hudson  Massachusetts   \n",
       "31269  ready_to_build  2.0   NaN       0.0      Hudson  Massachusetts   \n",
       "31271  ready_to_build  2.0   NaN       0.0      Hudson  Massachusetts   \n",
       "31272  ready_to_build  2.0   NaN       0.0      Hudson  Massachusetts   \n",
       "31274  ready_to_build  2.0   NaN       0.0      Hudson  Massachusetts   \n",
       "31540  ready_to_build  2.0   NaN       0.0  Boxborough  Massachusetts   \n",
       "31541  ready_to_build  2.0   NaN       0.0  Boxborough  Massachusetts   \n",
       "31542  ready_to_build  2.0   NaN       0.0  Boxborough  Massachusetts   \n",
       "31543  ready_to_build  2.0   NaN       0.0  Boxborough  Massachusetts   \n",
       "31544  ready_to_build  2.0   NaN       0.0  Boxborough  Massachusetts   \n",
       "33845  ready_to_build  2.0   NaN       0.0      Hudson  Massachusetts   \n",
       "33847  ready_to_build  2.0   NaN       0.0      Hudson  Massachusetts   \n",
       "33848  ready_to_build  2.0   NaN       0.0      Hudson  Massachusetts   \n",
       "34044  ready_to_build  2.0   NaN       0.0      Hudson  Massachusetts   \n",
       "34045  ready_to_build  2.0   NaN       0.0      Hudson  Massachusetts   \n",
       "34046  ready_to_build  2.0   NaN       0.0      Hudson  Massachusetts   \n",
       "34047  ready_to_build  2.0   NaN       0.0      Hudson  Massachusetts   \n",
       "34048  ready_to_build  2.0   NaN       0.0      Hudson  Massachusetts   \n",
       "34049  ready_to_build  2.0   NaN       0.0      Hudson  Massachusetts   \n",
       "34447  ready_to_build  2.0   NaN       0.0  Boxborough  Massachusetts   \n",
       "34449  ready_to_build  2.0   NaN       0.0  Boxborough  Massachusetts   \n",
       "34450  ready_to_build  2.0   NaN       0.0  Boxborough  Massachusetts   \n",
       "34452  ready_to_build  2.0   NaN       0.0  Boxborough  Massachusetts   \n",
       "34453  ready_to_build  2.0   NaN       0.0  Boxborough  Massachusetts   \n",
       "\n",
       "       zip_code  house_size     price  \n",
       "31131    1719.0      2516.0  852995.0  \n",
       "31134    1719.0      2576.0  858995.0  \n",
       "31137    1719.0      2626.0  862995.0  \n",
       "31140    1719.0      2449.0  842995.0  \n",
       "31141    1719.0      1833.0  799995.0  \n",
       "31267    1749.0      2369.0  864995.0  \n",
       "31268    1749.0      2150.0  844995.0  \n",
       "31269    1749.0      2383.0  869995.0  \n",
       "31271    1749.0      1766.0  814995.0  \n",
       "31272    1749.0      1759.0  812995.0  \n",
       "31274    1749.0      1735.0  811995.0  \n",
       "31540    1719.0      2516.0  852995.0  \n",
       "31541    1719.0      2576.0  858995.0  \n",
       "31542    1719.0      2626.0  862995.0  \n",
       "31543    1719.0      2449.0  842995.0  \n",
       "31544    1719.0      1833.0  799995.0  \n",
       "33845    1749.0      2150.0  844995.0  \n",
       "33847    1749.0      2369.0  864995.0  \n",
       "33848    1749.0      1759.0  812995.0  \n",
       "34044    1749.0      2369.0  864995.0  \n",
       "34045    1749.0      2383.0  869995.0  \n",
       "34046    1749.0      2150.0  844995.0  \n",
       "34047    1749.0      1766.0  814995.0  \n",
       "34048    1749.0      1759.0  812995.0  \n",
       "34049    1749.0      1735.0  811995.0  \n",
       "34447    1719.0      2516.0  852995.0  \n",
       "34449    1719.0      2626.0  862995.0  \n",
       "34450    1719.0      2576.0  858995.0  \n",
       "34452    1719.0      1833.0  799995.0  \n",
       "34453    1719.0      2449.0  842995.0  "
      ]
     },
     "execution_count": 12,
     "metadata": {},
     "output_type": "execute_result"
    }
   ],
   "source": [
    "df_check.head(30)"
   ]
  },
  {
   "cell_type": "markdown",
   "id": "fab63c7f",
   "metadata": {},
   "source": [
    "For this I believe erasing the rows with ready_to_build would allow a better view of already built haouse."
   ]
  },
  {
   "cell_type": "code",
   "execution_count": 13,
   "id": "ea96f7bd",
   "metadata": {},
   "outputs": [],
   "source": [
    "# Dropping the chaff\n",
    "df.drop(df[df['status'] == 'ready_to_build'].index, inplace = True)"
   ]
  },
  {
   "cell_type": "code",
   "execution_count": 14,
   "id": "987d2995",
   "metadata": {},
   "outputs": [
    {
     "data": {
      "text/plain": [
       "for_sale    751423\n",
       "Name: status, dtype: int64"
      ]
     },
     "execution_count": 14,
     "metadata": {},
     "output_type": "execute_result"
    }
   ],
   "source": [
    "df['status'].value_counts(dropna = False)"
   ]
  },
  {
   "cell_type": "code",
   "execution_count": 15,
   "id": "42460170",
   "metadata": {},
   "outputs": [],
   "source": [
    "# Now to drop the column\n",
    "df = df.drop(columns = ['status'])"
   ]
  },
  {
   "cell_type": "code",
   "execution_count": 16,
   "id": "c2cec9d6",
   "metadata": {},
   "outputs": [
    {
     "data": {
      "text/plain": [
       "<bound method NDFrame.head of         bed  bath  acre_lot           city          state  zip_code  \\\n",
       "0       2.0   1.0      0.34         Agawam  Massachusetts    1001.0   \n",
       "1       2.0   2.0      0.00         Agawam  Massachusetts    1001.0   \n",
       "2       2.0   2.0      0.00         Agawam  Massachusetts    1001.0   \n",
       "3       2.0   2.0      0.00         Agawam  Massachusetts    1001.0   \n",
       "4       3.0   1.0      0.46         Agawam  Massachusetts    1001.0   \n",
       "...     ...   ...       ...            ...            ...       ...   \n",
       "753011  2.0   2.0      0.00  New York City       New York   10463.0   \n",
       "753012  2.0   2.0      0.00  New York City       New York   10463.0   \n",
       "753013  2.0   2.0      0.00          Bronx       New York   10463.0   \n",
       "753014  3.0   2.0      0.00          Bronx       New York   10463.0   \n",
       "753015  3.0   3.0      0.00  New York City       New York   10463.0   \n",
       "\n",
       "        house_size     price  \n",
       "0            676.0  180000.0  \n",
       "1            892.0  169900.0  \n",
       "2           1428.0  242000.0  \n",
       "3           1659.0  299950.0  \n",
       "4           1196.0  239900.0  \n",
       "...            ...       ...  \n",
       "753011      1200.0  399000.0  \n",
       "753012         NaN  359000.0  \n",
       "753013      1200.0  299000.0  \n",
       "753014         NaN  449000.0  \n",
       "753015      1677.0  850000.0  \n",
       "\n",
       "[751423 rows x 8 columns]>"
      ]
     },
     "execution_count": 16,
     "metadata": {},
     "output_type": "execute_result"
    }
   ],
   "source": [
    "df.head"
   ]
  },
  {
   "cell_type": "code",
   "execution_count": 17,
   "id": "6297681d",
   "metadata": {},
   "outputs": [
    {
     "data": {
      "text/plain": [
       "Index(['bed', 'bath', 'acre_lot', 'city', 'state', 'zip_code', 'house_size',\n",
       "       'price'],\n",
       "      dtype='object')"
      ]
     },
     "execution_count": 17,
     "metadata": {},
     "output_type": "execute_result"
    }
   ],
   "source": [
    "df.columns"
   ]
  },
  {
   "cell_type": "code",
   "execution_count": 24,
   "id": "1aa648a6",
   "metadata": {},
   "outputs": [
    {
     "data": {
      "text/plain": [
       "bed                0\n",
       "bath            3563\n",
       "acre_lot           0\n",
       "city              17\n",
       "state              0\n",
       "zip_code           5\n",
       "house_size    180530\n",
       "price              0\n",
       "dtype: int64"
      ]
     },
     "execution_count": 24,
     "metadata": {},
     "output_type": "execute_result"
    }
   ],
   "source": [
    "# Checking for Nulls\n",
    "df.isnull().sum()"
   ]
  },
  {
   "cell_type": "markdown",
   "id": "6d5b8702",
   "metadata": {},
   "source": [
    "As we said before, as long as there are bedrooms then the rest of the house info is not necessary, so these nulls should not slow us down."
   ]
  },
  {
   "cell_type": "code",
   "execution_count": 30,
   "id": "dc123626",
   "metadata": {},
   "outputs": [
    {
     "data": {
      "text/plain": [
       "3.0      232939\n",
       "2.0      167953\n",
       "4.0      142418\n",
       "1.0       82119\n",
       "5.0       56208\n",
       "6.0       34593\n",
       "7.0       11603\n",
       "8.0        9912\n",
       "9.0        5342\n",
       "10.0       2731\n",
       "12.0       1825\n",
       "11.0       1348\n",
       "15.0        333\n",
       "13.0        305\n",
       "14.0        303\n",
       "20.0        258\n",
       "18.0        233\n",
       "16.0        185\n",
       "24.0        162\n",
       "19.0        125\n",
       "17.0         96\n",
       "22.0         93\n",
       "28.0         54\n",
       "21.0         39\n",
       "46.0         35\n",
       "42.0         30\n",
       "60.0         27\n",
       "99.0         23\n",
       "86.0         21\n",
       "32.0         21\n",
       "31.0         20\n",
       "27.0         13\n",
       "33.0         10\n",
       "49.0          8\n",
       "30.0          8\n",
       "29.0          7\n",
       "68.0          6\n",
       "25.0          4\n",
       "23.0          3\n",
       "40.0          3\n",
       "36.0          3\n",
       "47.0          3\n",
       "123.0         1\n",
       "Name: bed, dtype: int64"
      ]
     },
     "execution_count": 30,
     "metadata": {},
     "output_type": "execute_result"
    }
   ],
   "source": [
    "df['bed'].value_counts(dropna = False)"
   ]
  },
  {
   "cell_type": "code",
   "execution_count": 31,
   "id": "a07210de",
   "metadata": {},
   "outputs": [],
   "source": [
    "# It is possible that some mansion have close to 100 rooms, so let's see what the price and whatnot for these houses are\n",
    "df_mansion = df[df['bed'] > 50]"
   ]
  },
  {
   "cell_type": "code",
   "execution_count": 32,
   "id": "7e803096",
   "metadata": {
    "scrolled": true
   },
   "outputs": [
    {
     "data": {
      "text/html": [
       "<div>\n",
       "<style scoped>\n",
       "    .dataframe tbody tr th:only-of-type {\n",
       "        vertical-align: middle;\n",
       "    }\n",
       "\n",
       "    .dataframe tbody tr th {\n",
       "        vertical-align: top;\n",
       "    }\n",
       "\n",
       "    .dataframe thead th {\n",
       "        text-align: right;\n",
       "    }\n",
       "</style>\n",
       "<table border=\"1\" class=\"dataframe\">\n",
       "  <thead>\n",
       "    <tr style=\"text-align: right;\">\n",
       "      <th></th>\n",
       "      <th>bed</th>\n",
       "      <th>bath</th>\n",
       "      <th>acre_lot</th>\n",
       "      <th>city</th>\n",
       "      <th>state</th>\n",
       "      <th>zip_code</th>\n",
       "      <th>house_size</th>\n",
       "      <th>price</th>\n",
       "    </tr>\n",
       "  </thead>\n",
       "  <tbody>\n",
       "    <tr>\n",
       "      <th>36838</th>\n",
       "      <td>86.0</td>\n",
       "      <td>56.0</td>\n",
       "      <td>1.32</td>\n",
       "      <td>Framingham</td>\n",
       "      <td>Massachusetts</td>\n",
       "      <td>1702.0</td>\n",
       "      <td>35666.0</td>\n",
       "      <td>15150000.0</td>\n",
       "    </tr>\n",
       "    <tr>\n",
       "      <th>45708</th>\n",
       "      <td>86.0</td>\n",
       "      <td>56.0</td>\n",
       "      <td>1.32</td>\n",
       "      <td>Framingham</td>\n",
       "      <td>Massachusetts</td>\n",
       "      <td>1702.0</td>\n",
       "      <td>35666.0</td>\n",
       "      <td>15150000.0</td>\n",
       "    </tr>\n",
       "    <tr>\n",
       "      <th>47178</th>\n",
       "      <td>86.0</td>\n",
       "      <td>56.0</td>\n",
       "      <td>1.32</td>\n",
       "      <td>Framingham</td>\n",
       "      <td>Massachusetts</td>\n",
       "      <td>1702.0</td>\n",
       "      <td>35666.0</td>\n",
       "      <td>15150000.0</td>\n",
       "    </tr>\n",
       "    <tr>\n",
       "      <th>49842</th>\n",
       "      <td>86.0</td>\n",
       "      <td>56.0</td>\n",
       "      <td>1.32</td>\n",
       "      <td>Framingham</td>\n",
       "      <td>Massachusetts</td>\n",
       "      <td>1702.0</td>\n",
       "      <td>35666.0</td>\n",
       "      <td>15150000.0</td>\n",
       "    </tr>\n",
       "    <tr>\n",
       "      <th>50829</th>\n",
       "      <td>86.0</td>\n",
       "      <td>56.0</td>\n",
       "      <td>1.32</td>\n",
       "      <td>Framingham</td>\n",
       "      <td>Massachusetts</td>\n",
       "      <td>1702.0</td>\n",
       "      <td>35666.0</td>\n",
       "      <td>15150000.0</td>\n",
       "    </tr>\n",
       "    <tr>\n",
       "      <th>55328</th>\n",
       "      <td>86.0</td>\n",
       "      <td>56.0</td>\n",
       "      <td>1.32</td>\n",
       "      <td>Framingham</td>\n",
       "      <td>Massachusetts</td>\n",
       "      <td>1702.0</td>\n",
       "      <td>35666.0</td>\n",
       "      <td>15150000.0</td>\n",
       "    </tr>\n",
       "    <tr>\n",
       "      <th>58228</th>\n",
       "      <td>86.0</td>\n",
       "      <td>56.0</td>\n",
       "      <td>1.32</td>\n",
       "      <td>Framingham</td>\n",
       "      <td>Massachusetts</td>\n",
       "      <td>1702.0</td>\n",
       "      <td>35666.0</td>\n",
       "      <td>15150000.0</td>\n",
       "    </tr>\n",
       "    <tr>\n",
       "      <th>60647</th>\n",
       "      <td>86.0</td>\n",
       "      <td>56.0</td>\n",
       "      <td>1.32</td>\n",
       "      <td>Framingham</td>\n",
       "      <td>Massachusetts</td>\n",
       "      <td>1702.0</td>\n",
       "      <td>35666.0</td>\n",
       "      <td>15150000.0</td>\n",
       "    </tr>\n",
       "    <tr>\n",
       "      <th>61339</th>\n",
       "      <td>60.0</td>\n",
       "      <td>51.0</td>\n",
       "      <td>1.01</td>\n",
       "      <td>Boston</td>\n",
       "      <td>Massachusetts</td>\n",
       "      <td>2124.0</td>\n",
       "      <td>38442.0</td>\n",
       "      <td>14950000.0</td>\n",
       "    </tr>\n",
       "    <tr>\n",
       "      <th>62554</th>\n",
       "      <td>86.0</td>\n",
       "      <td>56.0</td>\n",
       "      <td>1.32</td>\n",
       "      <td>Framingham</td>\n",
       "      <td>Massachusetts</td>\n",
       "      <td>1702.0</td>\n",
       "      <td>35666.0</td>\n",
       "      <td>15150000.0</td>\n",
       "    </tr>\n",
       "    <tr>\n",
       "      <th>63909</th>\n",
       "      <td>60.0</td>\n",
       "      <td>51.0</td>\n",
       "      <td>1.01</td>\n",
       "      <td>Boston</td>\n",
       "      <td>Massachusetts</td>\n",
       "      <td>2124.0</td>\n",
       "      <td>38442.0</td>\n",
       "      <td>14950000.0</td>\n",
       "    </tr>\n",
       "    <tr>\n",
       "      <th>64808</th>\n",
       "      <td>86.0</td>\n",
       "      <td>56.0</td>\n",
       "      <td>1.32</td>\n",
       "      <td>Framingham</td>\n",
       "      <td>Massachusetts</td>\n",
       "      <td>1702.0</td>\n",
       "      <td>35666.0</td>\n",
       "      <td>15150000.0</td>\n",
       "    </tr>\n",
       "    <tr>\n",
       "      <th>68401</th>\n",
       "      <td>86.0</td>\n",
       "      <td>56.0</td>\n",
       "      <td>1.32</td>\n",
       "      <td>Framingham</td>\n",
       "      <td>Massachusetts</td>\n",
       "      <td>1702.0</td>\n",
       "      <td>35666.0</td>\n",
       "      <td>15150000.0</td>\n",
       "    </tr>\n",
       "    <tr>\n",
       "      <th>72806</th>\n",
       "      <td>99.0</td>\n",
       "      <td>198.0</td>\n",
       "      <td>0.29</td>\n",
       "      <td>Winthrop</td>\n",
       "      <td>Massachusetts</td>\n",
       "      <td>2152.0</td>\n",
       "      <td>14462.0</td>\n",
       "      <td>5300000.0</td>\n",
       "    </tr>\n",
       "    <tr>\n",
       "      <th>73081</th>\n",
       "      <td>99.0</td>\n",
       "      <td>198.0</td>\n",
       "      <td>0.29</td>\n",
       "      <td>Winthrop</td>\n",
       "      <td>Massachusetts</td>\n",
       "      <td>2152.0</td>\n",
       "      <td>14462.0</td>\n",
       "      <td>5300000.0</td>\n",
       "    </tr>\n",
       "    <tr>\n",
       "      <th>76923</th>\n",
       "      <td>99.0</td>\n",
       "      <td>198.0</td>\n",
       "      <td>0.29</td>\n",
       "      <td>Winthrop</td>\n",
       "      <td>Massachusetts</td>\n",
       "      <td>2152.0</td>\n",
       "      <td>14462.0</td>\n",
       "      <td>5300000.0</td>\n",
       "    </tr>\n",
       "    <tr>\n",
       "      <th>76961</th>\n",
       "      <td>60.0</td>\n",
       "      <td>51.0</td>\n",
       "      <td>1.01</td>\n",
       "      <td>Boston</td>\n",
       "      <td>Massachusetts</td>\n",
       "      <td>2124.0</td>\n",
       "      <td>38442.0</td>\n",
       "      <td>14950000.0</td>\n",
       "    </tr>\n",
       "    <tr>\n",
       "      <th>79373</th>\n",
       "      <td>99.0</td>\n",
       "      <td>198.0</td>\n",
       "      <td>0.29</td>\n",
       "      <td>Winthrop</td>\n",
       "      <td>Massachusetts</td>\n",
       "      <td>2152.0</td>\n",
       "      <td>14462.0</td>\n",
       "      <td>5300000.0</td>\n",
       "    </tr>\n",
       "    <tr>\n",
       "      <th>79413</th>\n",
       "      <td>60.0</td>\n",
       "      <td>51.0</td>\n",
       "      <td>1.01</td>\n",
       "      <td>Boston</td>\n",
       "      <td>Massachusetts</td>\n",
       "      <td>2124.0</td>\n",
       "      <td>38442.0</td>\n",
       "      <td>14950000.0</td>\n",
       "    </tr>\n",
       "    <tr>\n",
       "      <th>85379</th>\n",
       "      <td>99.0</td>\n",
       "      <td>198.0</td>\n",
       "      <td>0.29</td>\n",
       "      <td>Winthrop</td>\n",
       "      <td>Massachusetts</td>\n",
       "      <td>2152.0</td>\n",
       "      <td>14462.0</td>\n",
       "      <td>5300000.0</td>\n",
       "    </tr>\n",
       "    <tr>\n",
       "      <th>85416</th>\n",
       "      <td>60.0</td>\n",
       "      <td>51.0</td>\n",
       "      <td>1.01</td>\n",
       "      <td>Boston</td>\n",
       "      <td>Massachusetts</td>\n",
       "      <td>2124.0</td>\n",
       "      <td>38442.0</td>\n",
       "      <td>14950000.0</td>\n",
       "    </tr>\n",
       "    <tr>\n",
       "      <th>86837</th>\n",
       "      <td>86.0</td>\n",
       "      <td>56.0</td>\n",
       "      <td>1.32</td>\n",
       "      <td>Framingham</td>\n",
       "      <td>Massachusetts</td>\n",
       "      <td>1702.0</td>\n",
       "      <td>35666.0</td>\n",
       "      <td>15150000.0</td>\n",
       "    </tr>\n",
       "    <tr>\n",
       "      <th>88444</th>\n",
       "      <td>86.0</td>\n",
       "      <td>56.0</td>\n",
       "      <td>1.32</td>\n",
       "      <td>Framingham</td>\n",
       "      <td>Massachusetts</td>\n",
       "      <td>1702.0</td>\n",
       "      <td>35666.0</td>\n",
       "      <td>15150000.0</td>\n",
       "    </tr>\n",
       "    <tr>\n",
       "      <th>89169</th>\n",
       "      <td>60.0</td>\n",
       "      <td>51.0</td>\n",
       "      <td>1.01</td>\n",
       "      <td>Boston</td>\n",
       "      <td>Massachusetts</td>\n",
       "      <td>2124.0</td>\n",
       "      <td>38442.0</td>\n",
       "      <td>14950000.0</td>\n",
       "    </tr>\n",
       "    <tr>\n",
       "      <th>90285</th>\n",
       "      <td>86.0</td>\n",
       "      <td>56.0</td>\n",
       "      <td>1.32</td>\n",
       "      <td>Framingham</td>\n",
       "      <td>Massachusetts</td>\n",
       "      <td>1702.0</td>\n",
       "      <td>35666.0</td>\n",
       "      <td>15150000.0</td>\n",
       "    </tr>\n",
       "    <tr>\n",
       "      <th>91912</th>\n",
       "      <td>60.0</td>\n",
       "      <td>51.0</td>\n",
       "      <td>1.01</td>\n",
       "      <td>Boston</td>\n",
       "      <td>Massachusetts</td>\n",
       "      <td>2124.0</td>\n",
       "      <td>38442.0</td>\n",
       "      <td>14950000.0</td>\n",
       "    </tr>\n",
       "    <tr>\n",
       "      <th>92317</th>\n",
       "      <td>99.0</td>\n",
       "      <td>198.0</td>\n",
       "      <td>0.29</td>\n",
       "      <td>Winthrop</td>\n",
       "      <td>Massachusetts</td>\n",
       "      <td>2152.0</td>\n",
       "      <td>14462.0</td>\n",
       "      <td>5300000.0</td>\n",
       "    </tr>\n",
       "    <tr>\n",
       "      <th>92360</th>\n",
       "      <td>60.0</td>\n",
       "      <td>51.0</td>\n",
       "      <td>1.01</td>\n",
       "      <td>Boston</td>\n",
       "      <td>Massachusetts</td>\n",
       "      <td>2124.0</td>\n",
       "      <td>38442.0</td>\n",
       "      <td>14950000.0</td>\n",
       "    </tr>\n",
       "    <tr>\n",
       "      <th>96107</th>\n",
       "      <td>60.0</td>\n",
       "      <td>51.0</td>\n",
       "      <td>1.01</td>\n",
       "      <td>Boston</td>\n",
       "      <td>Massachusetts</td>\n",
       "      <td>2124.0</td>\n",
       "      <td>38442.0</td>\n",
       "      <td>14950000.0</td>\n",
       "    </tr>\n",
       "    <tr>\n",
       "      <th>96611</th>\n",
       "      <td>99.0</td>\n",
       "      <td>198.0</td>\n",
       "      <td>0.29</td>\n",
       "      <td>Winthrop</td>\n",
       "      <td>Massachusetts</td>\n",
       "      <td>2152.0</td>\n",
       "      <td>14462.0</td>\n",
       "      <td>5300000.0</td>\n",
       "    </tr>\n",
       "    <tr>\n",
       "      <th>96653</th>\n",
       "      <td>60.0</td>\n",
       "      <td>51.0</td>\n",
       "      <td>1.01</td>\n",
       "      <td>Boston</td>\n",
       "      <td>Massachusetts</td>\n",
       "      <td>2124.0</td>\n",
       "      <td>38442.0</td>\n",
       "      <td>14950000.0</td>\n",
       "    </tr>\n",
       "    <tr>\n",
       "      <th>99148</th>\n",
       "      <td>99.0</td>\n",
       "      <td>198.0</td>\n",
       "      <td>0.29</td>\n",
       "      <td>Winthrop</td>\n",
       "      <td>Massachusetts</td>\n",
       "      <td>2152.0</td>\n",
       "      <td>14462.0</td>\n",
       "      <td>5300000.0</td>\n",
       "    </tr>\n",
       "    <tr>\n",
       "      <th>99875</th>\n",
       "      <td>99.0</td>\n",
       "      <td>198.0</td>\n",
       "      <td>0.29</td>\n",
       "      <td>Winthrop</td>\n",
       "      <td>Massachusetts</td>\n",
       "      <td>2152.0</td>\n",
       "      <td>14462.0</td>\n",
       "      <td>5300000.0</td>\n",
       "    </tr>\n",
       "    <tr>\n",
       "      <th>99919</th>\n",
       "      <td>60.0</td>\n",
       "      <td>51.0</td>\n",
       "      <td>1.01</td>\n",
       "      <td>Boston</td>\n",
       "      <td>Massachusetts</td>\n",
       "      <td>2124.0</td>\n",
       "      <td>38442.0</td>\n",
       "      <td>14950000.0</td>\n",
       "    </tr>\n",
       "    <tr>\n",
       "      <th>102033</th>\n",
       "      <td>99.0</td>\n",
       "      <td>198.0</td>\n",
       "      <td>0.29</td>\n",
       "      <td>Winthrop</td>\n",
       "      <td>Massachusetts</td>\n",
       "      <td>2152.0</td>\n",
       "      <td>14462.0</td>\n",
       "      <td>5300000.0</td>\n",
       "    </tr>\n",
       "    <tr>\n",
       "      <th>102040</th>\n",
       "      <td>60.0</td>\n",
       "      <td>51.0</td>\n",
       "      <td>1.01</td>\n",
       "      <td>Boston</td>\n",
       "      <td>Massachusetts</td>\n",
       "      <td>2124.0</td>\n",
       "      <td>38442.0</td>\n",
       "      <td>14950000.0</td>\n",
       "    </tr>\n",
       "    <tr>\n",
       "      <th>103988</th>\n",
       "      <td>99.0</td>\n",
       "      <td>198.0</td>\n",
       "      <td>0.29</td>\n",
       "      <td>Winthrop</td>\n",
       "      <td>Massachusetts</td>\n",
       "      <td>2152.0</td>\n",
       "      <td>14462.0</td>\n",
       "      <td>5300000.0</td>\n",
       "    </tr>\n",
       "    <tr>\n",
       "      <th>103991</th>\n",
       "      <td>60.0</td>\n",
       "      <td>51.0</td>\n",
       "      <td>1.01</td>\n",
       "      <td>Boston</td>\n",
       "      <td>Massachusetts</td>\n",
       "      <td>2124.0</td>\n",
       "      <td>38442.0</td>\n",
       "      <td>14950000.0</td>\n",
       "    </tr>\n",
       "    <tr>\n",
       "      <th>107187</th>\n",
       "      <td>60.0</td>\n",
       "      <td>51.0</td>\n",
       "      <td>1.01</td>\n",
       "      <td>Boston</td>\n",
       "      <td>Massachusetts</td>\n",
       "      <td>2124.0</td>\n",
       "      <td>38442.0</td>\n",
       "      <td>14950000.0</td>\n",
       "    </tr>\n",
       "    <tr>\n",
       "      <th>109214</th>\n",
       "      <td>99.0</td>\n",
       "      <td>198.0</td>\n",
       "      <td>0.29</td>\n",
       "      <td>Winthrop</td>\n",
       "      <td>Massachusetts</td>\n",
       "      <td>2152.0</td>\n",
       "      <td>14462.0</td>\n",
       "      <td>5300000.0</td>\n",
       "    </tr>\n",
       "    <tr>\n",
       "      <th>109255</th>\n",
       "      <td>60.0</td>\n",
       "      <td>51.0</td>\n",
       "      <td>1.01</td>\n",
       "      <td>Boston</td>\n",
       "      <td>Massachusetts</td>\n",
       "      <td>2124.0</td>\n",
       "      <td>38442.0</td>\n",
       "      <td>14950000.0</td>\n",
       "    </tr>\n",
       "    <tr>\n",
       "      <th>111686</th>\n",
       "      <td>99.0</td>\n",
       "      <td>198.0</td>\n",
       "      <td>0.29</td>\n",
       "      <td>Winthrop</td>\n",
       "      <td>Massachusetts</td>\n",
       "      <td>2152.0</td>\n",
       "      <td>14462.0</td>\n",
       "      <td>5300000.0</td>\n",
       "    </tr>\n",
       "    <tr>\n",
       "      <th>111728</th>\n",
       "      <td>60.0</td>\n",
       "      <td>51.0</td>\n",
       "      <td>1.01</td>\n",
       "      <td>Boston</td>\n",
       "      <td>Massachusetts</td>\n",
       "      <td>2124.0</td>\n",
       "      <td>38442.0</td>\n",
       "      <td>14950000.0</td>\n",
       "    </tr>\n",
       "    <tr>\n",
       "      <th>113946</th>\n",
       "      <td>99.0</td>\n",
       "      <td>198.0</td>\n",
       "      <td>0.29</td>\n",
       "      <td>Winthrop</td>\n",
       "      <td>Massachusetts</td>\n",
       "      <td>2152.0</td>\n",
       "      <td>14462.0</td>\n",
       "      <td>5300000.0</td>\n",
       "    </tr>\n",
       "    <tr>\n",
       "      <th>113983</th>\n",
       "      <td>60.0</td>\n",
       "      <td>51.0</td>\n",
       "      <td>1.01</td>\n",
       "      <td>Boston</td>\n",
       "      <td>Massachusetts</td>\n",
       "      <td>2124.0</td>\n",
       "      <td>38442.0</td>\n",
       "      <td>14950000.0</td>\n",
       "    </tr>\n",
       "    <tr>\n",
       "      <th>117352</th>\n",
       "      <td>99.0</td>\n",
       "      <td>198.0</td>\n",
       "      <td>0.29</td>\n",
       "      <td>Winthrop</td>\n",
       "      <td>Massachusetts</td>\n",
       "      <td>2152.0</td>\n",
       "      <td>14462.0</td>\n",
       "      <td>5300000.0</td>\n",
       "    </tr>\n",
       "    <tr>\n",
       "      <th>117392</th>\n",
       "      <td>60.0</td>\n",
       "      <td>51.0</td>\n",
       "      <td>1.01</td>\n",
       "      <td>Boston</td>\n",
       "      <td>Massachusetts</td>\n",
       "      <td>2124.0</td>\n",
       "      <td>38442.0</td>\n",
       "      <td>14950000.0</td>\n",
       "    </tr>\n",
       "    <tr>\n",
       "      <th>121309</th>\n",
       "      <td>99.0</td>\n",
       "      <td>198.0</td>\n",
       "      <td>0.29</td>\n",
       "      <td>Winthrop</td>\n",
       "      <td>Massachusetts</td>\n",
       "      <td>2152.0</td>\n",
       "      <td>14462.0</td>\n",
       "      <td>5300000.0</td>\n",
       "    </tr>\n",
       "    <tr>\n",
       "      <th>121352</th>\n",
       "      <td>60.0</td>\n",
       "      <td>51.0</td>\n",
       "      <td>1.01</td>\n",
       "      <td>Boston</td>\n",
       "      <td>Massachusetts</td>\n",
       "      <td>2124.0</td>\n",
       "      <td>38442.0</td>\n",
       "      <td>14950000.0</td>\n",
       "    </tr>\n",
       "    <tr>\n",
       "      <th>124628</th>\n",
       "      <td>99.0</td>\n",
       "      <td>198.0</td>\n",
       "      <td>0.29</td>\n",
       "      <td>Winthrop</td>\n",
       "      <td>Massachusetts</td>\n",
       "      <td>2152.0</td>\n",
       "      <td>14462.0</td>\n",
       "      <td>5300000.0</td>\n",
       "    </tr>\n",
       "  </tbody>\n",
       "</table>\n",
       "</div>"
      ],
      "text/plain": [
       "         bed   bath  acre_lot        city          state  zip_code  \\\n",
       "36838   86.0   56.0      1.32  Framingham  Massachusetts    1702.0   \n",
       "45708   86.0   56.0      1.32  Framingham  Massachusetts    1702.0   \n",
       "47178   86.0   56.0      1.32  Framingham  Massachusetts    1702.0   \n",
       "49842   86.0   56.0      1.32  Framingham  Massachusetts    1702.0   \n",
       "50829   86.0   56.0      1.32  Framingham  Massachusetts    1702.0   \n",
       "55328   86.0   56.0      1.32  Framingham  Massachusetts    1702.0   \n",
       "58228   86.0   56.0      1.32  Framingham  Massachusetts    1702.0   \n",
       "60647   86.0   56.0      1.32  Framingham  Massachusetts    1702.0   \n",
       "61339   60.0   51.0      1.01      Boston  Massachusetts    2124.0   \n",
       "62554   86.0   56.0      1.32  Framingham  Massachusetts    1702.0   \n",
       "63909   60.0   51.0      1.01      Boston  Massachusetts    2124.0   \n",
       "64808   86.0   56.0      1.32  Framingham  Massachusetts    1702.0   \n",
       "68401   86.0   56.0      1.32  Framingham  Massachusetts    1702.0   \n",
       "72806   99.0  198.0      0.29    Winthrop  Massachusetts    2152.0   \n",
       "73081   99.0  198.0      0.29    Winthrop  Massachusetts    2152.0   \n",
       "76923   99.0  198.0      0.29    Winthrop  Massachusetts    2152.0   \n",
       "76961   60.0   51.0      1.01      Boston  Massachusetts    2124.0   \n",
       "79373   99.0  198.0      0.29    Winthrop  Massachusetts    2152.0   \n",
       "79413   60.0   51.0      1.01      Boston  Massachusetts    2124.0   \n",
       "85379   99.0  198.0      0.29    Winthrop  Massachusetts    2152.0   \n",
       "85416   60.0   51.0      1.01      Boston  Massachusetts    2124.0   \n",
       "86837   86.0   56.0      1.32  Framingham  Massachusetts    1702.0   \n",
       "88444   86.0   56.0      1.32  Framingham  Massachusetts    1702.0   \n",
       "89169   60.0   51.0      1.01      Boston  Massachusetts    2124.0   \n",
       "90285   86.0   56.0      1.32  Framingham  Massachusetts    1702.0   \n",
       "91912   60.0   51.0      1.01      Boston  Massachusetts    2124.0   \n",
       "92317   99.0  198.0      0.29    Winthrop  Massachusetts    2152.0   \n",
       "92360   60.0   51.0      1.01      Boston  Massachusetts    2124.0   \n",
       "96107   60.0   51.0      1.01      Boston  Massachusetts    2124.0   \n",
       "96611   99.0  198.0      0.29    Winthrop  Massachusetts    2152.0   \n",
       "96653   60.0   51.0      1.01      Boston  Massachusetts    2124.0   \n",
       "99148   99.0  198.0      0.29    Winthrop  Massachusetts    2152.0   \n",
       "99875   99.0  198.0      0.29    Winthrop  Massachusetts    2152.0   \n",
       "99919   60.0   51.0      1.01      Boston  Massachusetts    2124.0   \n",
       "102033  99.0  198.0      0.29    Winthrop  Massachusetts    2152.0   \n",
       "102040  60.0   51.0      1.01      Boston  Massachusetts    2124.0   \n",
       "103988  99.0  198.0      0.29    Winthrop  Massachusetts    2152.0   \n",
       "103991  60.0   51.0      1.01      Boston  Massachusetts    2124.0   \n",
       "107187  60.0   51.0      1.01      Boston  Massachusetts    2124.0   \n",
       "109214  99.0  198.0      0.29    Winthrop  Massachusetts    2152.0   \n",
       "109255  60.0   51.0      1.01      Boston  Massachusetts    2124.0   \n",
       "111686  99.0  198.0      0.29    Winthrop  Massachusetts    2152.0   \n",
       "111728  60.0   51.0      1.01      Boston  Massachusetts    2124.0   \n",
       "113946  99.0  198.0      0.29    Winthrop  Massachusetts    2152.0   \n",
       "113983  60.0   51.0      1.01      Boston  Massachusetts    2124.0   \n",
       "117352  99.0  198.0      0.29    Winthrop  Massachusetts    2152.0   \n",
       "117392  60.0   51.0      1.01      Boston  Massachusetts    2124.0   \n",
       "121309  99.0  198.0      0.29    Winthrop  Massachusetts    2152.0   \n",
       "121352  60.0   51.0      1.01      Boston  Massachusetts    2124.0   \n",
       "124628  99.0  198.0      0.29    Winthrop  Massachusetts    2152.0   \n",
       "\n",
       "        house_size       price  \n",
       "36838      35666.0  15150000.0  \n",
       "45708      35666.0  15150000.0  \n",
       "47178      35666.0  15150000.0  \n",
       "49842      35666.0  15150000.0  \n",
       "50829      35666.0  15150000.0  \n",
       "55328      35666.0  15150000.0  \n",
       "58228      35666.0  15150000.0  \n",
       "60647      35666.0  15150000.0  \n",
       "61339      38442.0  14950000.0  \n",
       "62554      35666.0  15150000.0  \n",
       "63909      38442.0  14950000.0  \n",
       "64808      35666.0  15150000.0  \n",
       "68401      35666.0  15150000.0  \n",
       "72806      14462.0   5300000.0  \n",
       "73081      14462.0   5300000.0  \n",
       "76923      14462.0   5300000.0  \n",
       "76961      38442.0  14950000.0  \n",
       "79373      14462.0   5300000.0  \n",
       "79413      38442.0  14950000.0  \n",
       "85379      14462.0   5300000.0  \n",
       "85416      38442.0  14950000.0  \n",
       "86837      35666.0  15150000.0  \n",
       "88444      35666.0  15150000.0  \n",
       "89169      38442.0  14950000.0  \n",
       "90285      35666.0  15150000.0  \n",
       "91912      38442.0  14950000.0  \n",
       "92317      14462.0   5300000.0  \n",
       "92360      38442.0  14950000.0  \n",
       "96107      38442.0  14950000.0  \n",
       "96611      14462.0   5300000.0  \n",
       "96653      38442.0  14950000.0  \n",
       "99148      14462.0   5300000.0  \n",
       "99875      14462.0   5300000.0  \n",
       "99919      38442.0  14950000.0  \n",
       "102033     14462.0   5300000.0  \n",
       "102040     38442.0  14950000.0  \n",
       "103988     14462.0   5300000.0  \n",
       "103991     38442.0  14950000.0  \n",
       "107187     38442.0  14950000.0  \n",
       "109214     14462.0   5300000.0  \n",
       "109255     38442.0  14950000.0  \n",
       "111686     14462.0   5300000.0  \n",
       "111728     38442.0  14950000.0  \n",
       "113946     14462.0   5300000.0  \n",
       "113983     38442.0  14950000.0  \n",
       "117352     14462.0   5300000.0  \n",
       "117392     38442.0  14950000.0  \n",
       "121309     14462.0   5300000.0  \n",
       "121352     38442.0  14950000.0  \n",
       "124628     14462.0   5300000.0  "
      ]
     },
     "execution_count": 32,
     "metadata": {},
     "output_type": "execute_result"
    }
   ],
   "source": [
    "df_mansion.head(50)"
   ]
  },
  {
   "cell_type": "markdown",
   "id": "21fe515a",
   "metadata": {},
   "source": [
    "Well this explains why Massachusetts has a much higher average cost per house, all of these mansions are inflating the housing prices. For this project it may make sense to drop houses with more than 6 rooms, as these houses will likely be either apartment buildings or mansions, and I am most interested in family homes.\n",
    "\n",
    "But first, how many homes would this impact?"
   ]
  },
  {
   "cell_type": "code",
   "execution_count": 33,
   "id": "72c470c9",
   "metadata": {
    "scrolled": true
   },
   "outputs": [
    {
     "data": {
      "text/plain": [
       "(35193, 8)"
      ]
     },
     "execution_count": 33,
     "metadata": {},
     "output_type": "execute_result"
    }
   ],
   "source": [
    "df_mansion = df[df['bed'] > 6]\n",
    "df_mansion.shape"
   ]
  },
  {
   "cell_type": "code",
   "execution_count": 34,
   "id": "29682d01",
   "metadata": {},
   "outputs": [
    {
     "data": {
      "text/plain": [
       "(751423, 8)"
      ]
     },
     "execution_count": 34,
     "metadata": {},
     "output_type": "execute_result"
    }
   ],
   "source": [
    "# Compared to the whole df\n",
    "df.shape"
   ]
  },
  {
   "cell_type": "code",
   "execution_count": 35,
   "id": "8eb935fa",
   "metadata": {},
   "outputs": [
    {
     "data": {
      "text/plain": [
       "4.683513813125231"
      ]
     },
     "execution_count": 35,
     "metadata": {},
     "output_type": "execute_result"
    }
   ],
   "source": [
    "# Some quick math to find the percent of massive homes\n",
    "(35193/751423) * 100"
   ]
  },
  {
   "cell_type": "code",
   "execution_count": 36,
   "id": "43d06bba",
   "metadata": {},
   "outputs": [],
   "source": [
    "# Since it is less than 10% it should not impact the data too much, so we are safe to drop them\n",
    "df.drop(df[df['bed'] > 6].index, inplace = True)"
   ]
  },
  {
   "cell_type": "code",
   "execution_count": 37,
   "id": "670a47be",
   "metadata": {},
   "outputs": [
    {
     "data": {
      "text/plain": [
       "3.0    232939\n",
       "2.0    167953\n",
       "4.0    142418\n",
       "1.0     82119\n",
       "5.0     56208\n",
       "6.0     34593\n",
       "Name: bed, dtype: int64"
      ]
     },
     "execution_count": 37,
     "metadata": {},
     "output_type": "execute_result"
    }
   ],
   "source": [
    "df['bed'].value_counts(dropna = False)"
   ]
  },
  {
   "cell_type": "markdown",
   "id": "d46fdd7d",
   "metadata": {},
   "source": [
    "Although it was informative to see what states have the largest amount of mansions, I am most interested in the affordability of single family homes."
   ]
  },
  {
   "cell_type": "code",
   "execution_count": 25,
   "id": "e64ca77b",
   "metadata": {},
   "outputs": [
    {
     "data": {
      "text/plain": [
       "(751423,)"
      ]
     },
     "execution_count": 25,
     "metadata": {},
     "output_type": "execute_result"
    }
   ],
   "source": [
    "# Duplicate check\n",
    "dups = df.duplicated()\n",
    "dups.shape"
   ]
  },
  {
   "cell_type": "code",
   "execution_count": 28,
   "id": "7c4e9110",
   "metadata": {},
   "outputs": [
    {
     "name": "stderr",
     "output_type": "stream",
     "text": [
      "C:\\Users\\gav\\AppData\\Local\\Temp\\ipykernel_12688\\508075631.py:2: UserWarning: \n",
      "\n",
      "`distplot` is a deprecated function and will be removed in seaborn v0.14.0.\n",
      "\n",
      "Please adapt your code to use either `displot` (a figure-level function with\n",
      "similar flexibility) or `histplot` (an axes-level function for histograms).\n",
      "\n",
      "For a guide to updating your code to use the new functions, please see\n",
      "https://gist.github.com/mwaskom/de44147ed2974457ad6372750bbe5751\n",
      "\n",
      "  sns.distplot(df['price'], bins=2)\n"
     ]
    },
    {
     "data": {
      "text/plain": [
       "<AxesSubplot:xlabel='price', ylabel='Density'>"
      ]
     },
     "execution_count": 28,
     "metadata": {},
     "output_type": "execute_result"
    },
    {
     "data": {
      "image/png": "[encoded data removed]",
      "text/plain": [
       "<Figure size 640x480 with 1 Axes>"
      ]
     },
     "metadata": {},
     "output_type": "display_data"
    }
   ],
   "source": [
    "# Checking for extreme values\n",
    "sns.distplot(df['price'], bins=2)"
   ]
  },
  {
   "cell_type": "markdown",
   "id": "cd201a60",
   "metadata": {},
   "source": [
    "## Section 3: Data Prep for Regression Analysis"
   ]
  },
  {
   "cell_type": "markdown",
   "id": "e12dd4c2",
   "metadata": {},
   "source": [
    "To try and determine which variable has the largest impact on price we will make several charts and see if a pattern emerges."
   ]
  },
  {
   "cell_type": "code",
   "execution_count": 38,
   "id": "2369d816",
   "metadata": {},
   "outputs": [
    {
     "data": {
      "image/png": "[encoded data removed]",
      "text/plain": [
       "<Figure size 640x480 with 1 Axes>"
      ]
     },
     "metadata": {},
     "output_type": "display_data"
    }
   ],
   "source": [
    "# Create a scatterplot to see how # of beds impacts price\n",
    "\n",
    "df.plot(x = 'bed', y='price',style='o')\n",
    "plt.title('Number of Beds and Price')  \n",
    "plt.xlabel('Bedrooms')  \n",
    "plt.ylabel('Price')  \n",
    "plt.show()"
   ]
  },
  {
   "cell_type": "code",
   "execution_count": 39,
   "id": "aab0816e",
   "metadata": {},
   "outputs": [
    {
     "data": {
      "image/png": "[encoded data removed]",
      "text/plain": [
       "<Figure size 640x480 with 1 Axes>"
      ]
     },
     "metadata": {},
     "output_type": "display_data"
    }
   ],
   "source": [
    "# Create a scatterplot to see how # of bathrooms impacts price\n",
    "\n",
    "df.plot(x = 'bath', y='price',style='o')\n",
    "plt.title('Number of Bathrooms and Price')  \n",
    "plt.xlabel('Bathrooms')  \n",
    "plt.ylabel('Price')  \n",
    "plt.show()"
   ]
  },
  {
   "cell_type": "code",
   "execution_count": 41,
   "id": "2f113b83",
   "metadata": {},
   "outputs": [
    {
     "data": {
      "image/png": "[encoded data removed]",
      "text/plain": [
       "<Figure size 640x480 with 1 Axes>"
      ]
     },
     "metadata": {},
     "output_type": "display_data"
    }
   ],
   "source": [
    "# Create a scatterplot to see how acreage impacts price\n",
    "\n",
    "df.plot(x = 'acre_lot', y='price',style='o')\n",
    "plt.title('Acreage and Price')  \n",
    "plt.xlabel('Acreage')  \n",
    "plt.ylabel('Price')  \n",
    "plt.show()"
   ]
  },
  {
   "cell_type": "code",
   "execution_count": 43,
   "id": "2a030f36",
   "metadata": {},
   "outputs": [
    {
     "data": {
      "image/png": "[encoded data removed]",
      "text/plain": [
       "<Figure size 640x480 with 1 Axes>"
      ]
     },
     "metadata": {},
     "output_type": "display_data"
    }
   ],
   "source": [
    "# Creating a scatterplot to see how house size impacts price\n",
    "\n",
    "df.plot(x = 'house_size', y='price',style='o')\n",
    "plt.title('House Size and Price')  \n",
    "plt.xlabel('House Size (sq. ft)')  \n",
    "plt.ylabel('Price')  \n",
    "plt.show()"
   ]
  },
  {
   "cell_type": "code",
   "execution_count": 54,
   "id": "46e54e35",
   "metadata": {},
   "outputs": [
    {
     "data": {
      "image/png": "[encoded data removed]",
      "text/plain": [
       "<Figure size 640x480 with 1 Axes>"
      ]
     },
     "metadata": {},
     "output_type": "display_data"
    }
   ],
   "source": [
    "# Finally, a barchart to see if being in a city impacts price\n",
    "\n",
    "city_price_mean = df.groupby('city').agg({'price' : ['mean']})\n",
    "city_price_mean.plot(kind = 'bar', color = 'royalblue', legend = None)\n",
    "plt.title('Average Price Per City')\n",
    "plt.ylabel('Average Price')\n",
    "plt.xlabel('City')\n",
    "plt.show()"
   ]
  },
  {
   "cell_type": "markdown",
   "id": "7274fbf1",
   "metadata": {},
   "source": [
    "Based on these charts we can see that house size and acreage don't seem to impact the price of the house, whereas the amount of bathrooms and bedrooms do. The location also definitely affects the price, as the above chart shows.\n",
    "\n",
    "However, let's focus on the number of bedrooms and bathrooms for the regression analysis, but since there are null values for bathrooms we will have to stick with bedrooms for now."
   ]
  },
  {
   "cell_type": "code",
   "execution_count": 66,
   "id": "6570c6ca",
   "metadata": {},
   "outputs": [],
   "source": [
    "# Creating arrays to test variable relations\n",
    "X = df['bed'].values.reshape(-1,1)\n",
    "y = df['price'].values.reshape(-1,1)"
   ]
  },
  {
   "cell_type": "code",
   "execution_count": 67,
   "id": "384e55a2",
   "metadata": {},
   "outputs": [
    {
     "data": {
      "text/plain": [
       "array([[2.],\n",
       "       [2.],\n",
       "       [2.],\n",
       "       ...,\n",
       "       [2.],\n",
       "       [3.],\n",
       "       [3.]])"
      ]
     },
     "execution_count": 67,
     "metadata": {},
     "output_type": "execute_result"
    }
   ],
   "source": [
    "X"
   ]
  },
  {
   "cell_type": "code",
   "execution_count": 68,
   "id": "b6fa1288",
   "metadata": {
    "scrolled": false
   },
   "outputs": [
    {
     "data": {
      "text/plain": [
       "array([[180000.],\n",
       "       [169900.],\n",
       "       [242000.],\n",
       "       ...,\n",
       "       [299000.],\n",
       "       [449000.],\n",
       "       [850000.]])"
      ]
     },
     "execution_count": 68,
     "metadata": {},
     "output_type": "execute_result"
    }
   ],
   "source": [
    "y"
   ]
  },
  {
   "cell_type": "code",
   "execution_count": 70,
   "id": "696a0f92",
   "metadata": {},
   "outputs": [],
   "source": [
    "# Splitting the data into training and test sets\n",
    "X_train, X_test, y_train, y_test = train_test_split(X, y, test_size=0.3, random_state=0)"
   ]
  },
  {
   "cell_type": "code",
   "execution_count": 71,
   "id": "508f5c22",
   "metadata": {},
   "outputs": [],
   "source": [
    "# Create the regression object\n",
    "regression = LinearRegression()"
   ]
  },
  {
   "cell_type": "code",
   "execution_count": 72,
   "id": "2ba644b9",
   "metadata": {},
   "outputs": [
    {
     "data": {
      "text/html": [
       "<style>#sk-container-id-1 {color: black;background-color: white;}#sk-container-id-1 pre{padding: 0;}#sk-container-id-1 div.sk-toggleable {background-color: white;}#sk-container-id-1 label.sk-toggleable__label {cursor: pointer;display: block;width: 100%;margin-bottom: 0;padding: 0.3em;box-sizing: border-box;text-align: center;}#sk-container-id-1 label.sk-toggleable__label-arrow:before {content: \"▸\";float: left;margin-right: 0.25em;color: #696969;}#sk-container-id-1 label.sk-toggleable__label-arrow:hover:before {color: black;}#sk-container-id-1 div.sk-estimator:hover label.sk-toggleable__label-arrow:before {color: black;}#sk-container-id-1 div.sk-toggleable__content {max-height: 0;max-width: 0;overflow: hidden;text-align: left;background-color: #f0f8ff;}#sk-container-id-1 div.sk-toggleable__content pre {margin: 0.2em;color: black;border-radius: 0.25em;background-color: #f0f8ff;}#sk-container-id-1 input.sk-toggleable__control:checked~div.sk-toggleable__content {max-height: 200px;max-width: 100%;overflow: auto;}#sk-container-id-1 input.sk-toggleable__control:checked~label.sk-toggleable__label-arrow:before {content: \"▾\";}#sk-container-id-1 div.sk-estimator input.sk-toggleable__control:checked~label.sk-toggleable__label {background-color: #d4ebff;}#sk-container-id-1 div.sk-label input.sk-toggleable__control:checked~label.sk-toggleable__label {background-color: #d4ebff;}#sk-container-id-1 input.sk-hidden--visually {border: 0;clip: rect(1px 1px 1px 1px);clip: rect(1px, 1px, 1px, 1px);height: 1px;margin: -1px;overflow: hidden;padding: 0;position: absolute;width: 1px;}#sk-container-id-1 div.sk-estimator {font-family: monospace;background-color: #f0f8ff;border: 1px dotted black;border-radius: 0.25em;box-sizing: border-box;margin-bottom: 0.5em;}#sk-container-id-1 div.sk-estimator:hover {background-color: #d4ebff;}#sk-container-id-1 div.sk-parallel-item::after {content: \"\";width: 100%;border-bottom: 1px solid gray;flex-grow: 1;}#sk-container-id-1 div.sk-label:hover label.sk-toggleable__label {background-color: #d4ebff;}#sk-container-id-1 div.sk-serial::before {content: \"\";position: absolute;border-left: 1px solid gray;box-sizing: border-box;top: 0;bottom: 0;left: 50%;z-index: 0;}#sk-container-id-1 div.sk-serial {display: flex;flex-direction: column;align-items: center;background-color: white;padding-right: 0.2em;padding-left: 0.2em;position: relative;}#sk-container-id-1 div.sk-item {position: relative;z-index: 1;}#sk-container-id-1 div.sk-parallel {display: flex;align-items: stretch;justify-content: center;background-color: white;position: relative;}#sk-container-id-1 div.sk-item::before, #sk-container-id-1 div.sk-parallel-item::before {content: \"\";position: absolute;border-left: 1px solid gray;box-sizing: border-box;top: 0;bottom: 0;left: 50%;z-index: -1;}#sk-container-id-1 div.sk-parallel-item {display: flex;flex-direction: column;z-index: 1;position: relative;background-color: white;}#sk-container-id-1 div.sk-parallel-item:first-child::after {align-self: flex-end;width: 50%;}#sk-container-id-1 div.sk-parallel-item:last-child::after {align-self: flex-start;width: 50%;}#sk-container-id-1 div.sk-parallel-item:only-child::after {width: 0;}#sk-container-id-1 div.sk-dashed-wrapped {border: 1px dashed gray;margin: 0 0.4em 0.5em 0.4em;box-sizing: border-box;padding-bottom: 0.4em;background-color: white;}#sk-container-id-1 div.sk-label label {font-family: monospace;font-weight: bold;display: inline-block;line-height: 1.2em;}#sk-container-id-1 div.sk-label-container {text-align: center;}#sk-container-id-1 div.sk-container {/* jupyter's `normalize.less` sets `[hidden] { display: none; }` but bootstrap.min.css set `[hidden] { display: none !important; }` so we also need the `!important` here to be able to override the default hidden behavior on the sphinx rendered scikit-learn.org. See: https://github.com/scikit-learn/scikit-learn/issues/21755 */display: inline-block !important;position: relative;}#sk-container-id-1 div.sk-text-repr-fallback {display: none;}</style><div id=\"sk-container-id-1\" class=\"sk-top-container\"><div class=\"sk-text-repr-fallback\"><pre>LinearRegression()</pre><b>In a Jupyter environment, please rerun this cell to show the HTML representation or trust the notebook. <br />On GitHub, the HTML representation is unable to render, please try loading this page with nbviewer.org.</b></div><div class=\"sk-container\" hidden><div class=\"sk-item\"><div class=\"sk-estimator sk-toggleable\"><input class=\"sk-toggleable__control sk-hidden--visually\" id=\"sk-estimator-id-1\" type=\"checkbox\" checked><label for=\"sk-estimator-id-1\" class=\"sk-toggleable__label sk-toggleable__label-arrow\">LinearRegression</label><div class=\"sk-toggleable__content\"><pre>LinearRegression()</pre></div></div></div></div></div>"
      ],
      "text/plain": [
       "LinearRegression()"
      ]
     },
     "execution_count": 72,
     "metadata": {},
     "output_type": "execute_result"
    }
   ],
   "source": [
    "# Fitting the regression into the training sets\n",
    "regression.fit(X_train, y_train)"
   ]
  },
  {
   "cell_type": "code",
   "execution_count": 73,
   "id": "b165c236",
   "metadata": {},
   "outputs": [],
   "source": [
    "# Predicting the values of y using X\n",
    "y_predicted = regression.predict(X_test)"
   ]
  },
  {
   "cell_type": "code",
   "execution_count": 74,
   "id": "53155b71",
   "metadata": {},
   "outputs": [
    {
     "data": {
      "image/png": "[encoded data removed]",
      "text/plain": [
       "<Figure size 640x480 with 1 Axes>"
      ]
     },
     "metadata": {},
     "output_type": "display_data"
    }
   ],
   "source": [
    "# Creating a plot that shows the regression line from the model on the test set.\n",
    "\n",
    "plot_test = plt\n",
    "plot_test.scatter(X_test, y_test, color='gray', s = 15)\n",
    "plot_test.plot(X_test, y_predicted, color='red', linewidth =3)\n",
    "plot_test.title('Number of Bedrooms and House Price')\n",
    "plot_test.xlabel('Number of Bedrooms')\n",
    "plot_test.ylabel('House Price')\n",
    "plot_test.show()"
   ]
  },
  {
   "cell_type": "markdown",
   "id": "24500137",
   "metadata": {},
   "source": [
    "Based on the chart it appears that there is either no slope, or a very slight one. So let's check the statistics to see if there is a pattern."
   ]
  },
  {
   "cell_type": "code",
   "execution_count": 76,
   "id": "25735c09",
   "metadata": {},
   "outputs": [],
   "source": [
    "# Creating objects that contain the model summary statistics\n",
    "rmse = mean_squared_error(y_test, y_predicted) # This is the mean squared error\n",
    "r2 = r2_score(y_test, y_predicted) # This is the R2 score. "
   ]
  },
  {
   "cell_type": "code",
   "execution_count": 77,
   "id": "adabf350",
   "metadata": {},
   "outputs": [
    {
     "name": "stdout",
     "output_type": "stream",
     "text": [
      "Slope: [[219503.97830625]]\n",
      "Mean squared error:  3307702843496.4277\n",
      "R2 score:  0.024169423898748654\n"
     ]
    }
   ],
   "source": [
    "# Checking the stats\n",
    "print('Slope:' ,regression.coef_)\n",
    "print('Mean squared error: ', rmse)\n",
    "print('R2 score: ', r2)"
   ]
  },
  {
   "cell_type": "markdown",
   "id": "2f8338cc",
   "metadata": {},
   "source": [
    "Looks like the model did a poor job of predicting the data..."
   ]
  },
  {
   "cell_type": "code",
   "execution_count": 78,
   "id": "612478a9",
   "metadata": {},
   "outputs": [
    {
     "data": {
      "text/html": [
       "<div>\n",
       "<style scoped>\n",
       "    .dataframe tbody tr th:only-of-type {\n",
       "        vertical-align: middle;\n",
       "    }\n",
       "\n",
       "    .dataframe tbody tr th {\n",
       "        vertical-align: top;\n",
       "    }\n",
       "\n",
       "    .dataframe thead th {\n",
       "        text-align: right;\n",
       "    }\n",
       "</style>\n",
       "<table border=\"1\" class=\"dataframe\">\n",
       "  <thead>\n",
       "    <tr style=\"text-align: right;\">\n",
       "      <th></th>\n",
       "      <th>Actual</th>\n",
       "      <th>Predicted</th>\n",
       "    </tr>\n",
       "  </thead>\n",
       "  <tbody>\n",
       "    <tr>\n",
       "      <th>0</th>\n",
       "      <td>4999900.0</td>\n",
       "      <td>9.003925e+05</td>\n",
       "    </tr>\n",
       "    <tr>\n",
       "      <th>1</th>\n",
       "      <td>160000.0</td>\n",
       "      <td>6.808885e+05</td>\n",
       "    </tr>\n",
       "    <tr>\n",
       "      <th>2</th>\n",
       "      <td>995000.0</td>\n",
       "      <td>6.808885e+05</td>\n",
       "    </tr>\n",
       "    <tr>\n",
       "      <th>3</th>\n",
       "      <td>479900.0</td>\n",
       "      <td>9.003925e+05</td>\n",
       "    </tr>\n",
       "    <tr>\n",
       "      <th>4</th>\n",
       "      <td>175000.0</td>\n",
       "      <td>6.808885e+05</td>\n",
       "    </tr>\n",
       "    <tr>\n",
       "      <th>5</th>\n",
       "      <td>299900.0</td>\n",
       "      <td>6.808885e+05</td>\n",
       "    </tr>\n",
       "    <tr>\n",
       "      <th>6</th>\n",
       "      <td>335000.0</td>\n",
       "      <td>4.613845e+05</td>\n",
       "    </tr>\n",
       "    <tr>\n",
       "      <th>7</th>\n",
       "      <td>135000.0</td>\n",
       "      <td>6.808885e+05</td>\n",
       "    </tr>\n",
       "    <tr>\n",
       "      <th>8</th>\n",
       "      <td>515000.0</td>\n",
       "      <td>1.119896e+06</td>\n",
       "    </tr>\n",
       "    <tr>\n",
       "      <th>9</th>\n",
       "      <td>147500.0</td>\n",
       "      <td>6.808885e+05</td>\n",
       "    </tr>\n",
       "    <tr>\n",
       "      <th>10</th>\n",
       "      <td>359900.0</td>\n",
       "      <td>9.003925e+05</td>\n",
       "    </tr>\n",
       "    <tr>\n",
       "      <th>11</th>\n",
       "      <td>350000.0</td>\n",
       "      <td>1.119896e+06</td>\n",
       "    </tr>\n",
       "    <tr>\n",
       "      <th>12</th>\n",
       "      <td>289900.0</td>\n",
       "      <td>1.558904e+06</td>\n",
       "    </tr>\n",
       "    <tr>\n",
       "      <th>13</th>\n",
       "      <td>378000.0</td>\n",
       "      <td>1.339400e+06</td>\n",
       "    </tr>\n",
       "    <tr>\n",
       "      <th>14</th>\n",
       "      <td>749900.0</td>\n",
       "      <td>1.119896e+06</td>\n",
       "    </tr>\n",
       "    <tr>\n",
       "      <th>15</th>\n",
       "      <td>510000.0</td>\n",
       "      <td>1.119896e+06</td>\n",
       "    </tr>\n",
       "    <tr>\n",
       "      <th>16</th>\n",
       "      <td>439000.0</td>\n",
       "      <td>6.808885e+05</td>\n",
       "    </tr>\n",
       "    <tr>\n",
       "      <th>17</th>\n",
       "      <td>695000.0</td>\n",
       "      <td>1.119896e+06</td>\n",
       "    </tr>\n",
       "    <tr>\n",
       "      <th>18</th>\n",
       "      <td>489999.0</td>\n",
       "      <td>9.003925e+05</td>\n",
       "    </tr>\n",
       "    <tr>\n",
       "      <th>19</th>\n",
       "      <td>1199900.0</td>\n",
       "      <td>1.119896e+06</td>\n",
       "    </tr>\n",
       "    <tr>\n",
       "      <th>20</th>\n",
       "      <td>569000.0</td>\n",
       "      <td>6.808885e+05</td>\n",
       "    </tr>\n",
       "    <tr>\n",
       "      <th>21</th>\n",
       "      <td>752000.0</td>\n",
       "      <td>1.119896e+06</td>\n",
       "    </tr>\n",
       "    <tr>\n",
       "      <th>22</th>\n",
       "      <td>279000.0</td>\n",
       "      <td>1.119896e+06</td>\n",
       "    </tr>\n",
       "    <tr>\n",
       "      <th>23</th>\n",
       "      <td>239000.0</td>\n",
       "      <td>4.613845e+05</td>\n",
       "    </tr>\n",
       "    <tr>\n",
       "      <th>24</th>\n",
       "      <td>171900.0</td>\n",
       "      <td>6.808885e+05</td>\n",
       "    </tr>\n",
       "    <tr>\n",
       "      <th>25</th>\n",
       "      <td>5450000.0</td>\n",
       "      <td>6.808885e+05</td>\n",
       "    </tr>\n",
       "    <tr>\n",
       "      <th>26</th>\n",
       "      <td>240000.0</td>\n",
       "      <td>4.613845e+05</td>\n",
       "    </tr>\n",
       "    <tr>\n",
       "      <th>27</th>\n",
       "      <td>1500000.0</td>\n",
       "      <td>1.339400e+06</td>\n",
       "    </tr>\n",
       "    <tr>\n",
       "      <th>28</th>\n",
       "      <td>520000.0</td>\n",
       "      <td>6.808885e+05</td>\n",
       "    </tr>\n",
       "    <tr>\n",
       "      <th>29</th>\n",
       "      <td>225000.0</td>\n",
       "      <td>1.119896e+06</td>\n",
       "    </tr>\n",
       "  </tbody>\n",
       "</table>\n",
       "</div>"
      ],
      "text/plain": [
       "       Actual     Predicted\n",
       "0   4999900.0  9.003925e+05\n",
       "1    160000.0  6.808885e+05\n",
       "2    995000.0  6.808885e+05\n",
       "3    479900.0  9.003925e+05\n",
       "4    175000.0  6.808885e+05\n",
       "5    299900.0  6.808885e+05\n",
       "6    335000.0  4.613845e+05\n",
       "7    135000.0  6.808885e+05\n",
       "8    515000.0  1.119896e+06\n",
       "9    147500.0  6.808885e+05\n",
       "10   359900.0  9.003925e+05\n",
       "11   350000.0  1.119896e+06\n",
       "12   289900.0  1.558904e+06\n",
       "13   378000.0  1.339400e+06\n",
       "14   749900.0  1.119896e+06\n",
       "15   510000.0  1.119896e+06\n",
       "16   439000.0  6.808885e+05\n",
       "17   695000.0  1.119896e+06\n",
       "18   489999.0  9.003925e+05\n",
       "19  1199900.0  1.119896e+06\n",
       "20   569000.0  6.808885e+05\n",
       "21   752000.0  1.119896e+06\n",
       "22   279000.0  1.119896e+06\n",
       "23   239000.0  4.613845e+05\n",
       "24   171900.0  6.808885e+05\n",
       "25  5450000.0  6.808885e+05\n",
       "26   240000.0  4.613845e+05\n",
       "27  1500000.0  1.339400e+06\n",
       "28   520000.0  6.808885e+05\n",
       "29   225000.0  1.119896e+06"
      ]
     },
     "execution_count": 78,
     "metadata": {},
     "output_type": "execute_result"
    }
   ],
   "source": [
    "# Let's look at the raw numbers\n",
    "data = pd.DataFrame({'Actual': y_test.flatten(), 'Predicted': y_predicted.flatten()})\n",
    "data.head(30)"
   ]
  },
  {
   "cell_type": "code",
   "execution_count": 79,
   "id": "8b60cb73",
   "metadata": {},
   "outputs": [],
   "source": [
    "# Let's see how well the test set performed\n",
    "y_predicted_train = regression.predict(X_train)\n",
    "rmse = mean_squared_error(y_train, y_predicted_train)\n",
    "r2 = r2_score(y_train, y_predicted_train)"
   ]
  },
  {
   "cell_type": "code",
   "execution_count": 80,
   "id": "20878d04",
   "metadata": {
    "scrolled": true
   },
   "outputs": [
    {
     "name": "stdout",
     "output_type": "stream",
     "text": [
      "Slope: [[219503.97830625]]\n",
      "Mean squared error:  3039427062180.7983\n",
      "R2 score:  0.02533317100081578\n"
     ]
    }
   ],
   "source": [
    "print('Slope:' ,regression.coef_)\n",
    "print('Mean squared error: ', rmse)\n",
    "print('R2 score: ', r2)"
   ]
  },
  {
   "cell_type": "markdown",
   "id": "3d0f57ce",
   "metadata": {},
   "source": [
    "The test and training sets have very similar results, so at least we did not overtrain the test data."
   ]
  },
  {
   "cell_type": "code",
   "execution_count": 82,
   "id": "35e289c1",
   "metadata": {},
   "outputs": [
    {
     "data": {
      "image/png": "[encoded data removed]",
      "text/plain": [
       "<Figure size 640x480 with 1 Axes>"
      ]
     },
     "metadata": {},
     "output_type": "display_data"
    }
   ],
   "source": [
    "# Visualizing the training set results\n",
    "plot_test = plt\n",
    "plot_test.scatter(X_train, y_train, color='blue', s = 15)\n",
    "plot_test.plot(X_train, y_predicted_train, color='red', linewidth =3)\n",
    "plot_test.title('Number of Bedrooms and House Price (Train set)')\n",
    "plot_test.xlabel('Number of Bedrooms')\n",
    "plot_test.ylabel('House Price')\n",
    "plot_test.show()"
   ]
  },
  {
   "cell_type": "markdown",
   "id": "4dbf8793",
   "metadata": {},
   "source": [
    "No discernable change between the testing and training sets."
   ]
  },
  {
   "cell_type": "markdown",
   "id": "9157fd95",
   "metadata": {},
   "source": [
    "## Section 5: Thoughts on Model Performance"
   ]
  },
  {
   "cell_type": "markdown",
   "id": "22e94d44",
   "metadata": {},
   "source": [
    "With this data it is safe to say that the number of bedrooms has almost no impact on the price of the house. Since the 'bath' column still has Null values we cannot test this, but I feel confident that it would have similar results.\n",
    "\n",
    "This leads me to believe that the hypothesis that the size of the house (ie. the number of bathroom and bedrooms) does not have an impact on price. Based on the earlier chart of city and housing prices we do see that where the house is located appears to have an impact on the price.\n",
    "\n",
    "Likely this means that the old realtor saying of \"location, location, location\" may hold more truth, that the location of the property is the true determinate of price."
   ]
  },
  {
   "cell_type": "markdown",
   "id": "796001e1",
   "metadata": {},
   "source": [
    "## Section 6: Saving the Data"
   ]
  },
  {
   "cell_type": "code",
   "execution_count": 84,
   "id": "126a747f",
   "metadata": {},
   "outputs": [],
   "source": [
    "# Saving the cleaned data\n",
    "df.to_csv(os.path.join(path, 'Project Docs', '02 Data', 'Prepared Data', 'cleaned_house_data.csv'))"
   ]
  },
  {
   "cell_type": "code",
   "execution_count": null,
   "id": "c23bb06e",
   "metadata": {},
   "outputs": [],
   "source": []
  }
 ],
 "metadata": {
  "kernelspec": {
   "display_name": "Python 3 (ipykernel)",
   "language": "python",
   "name": "python3"
  },
  "language_info": {
   "codemirror_mode": {
    "name": "ipython",
    "version": 3
   },
   "file_extension": ".py",
   "mimetype": "text/x-python",
   "name": "python",
   "nbconvert_exporter": "python",
   "pygments_lexer": "ipython3",
   "version": "3.10.9"
  }
 },
 "nbformat": 4,
 "nbformat_minor": 5
}
